{
 "cells": [
  {
   "cell_type": "markdown",
   "metadata": {},
   "source": [
    "# Importando Clientes"
   ]
  },
  {
   "cell_type": "code",
   "execution_count": 1,
   "metadata": {},
   "outputs": [
    {
     "name": "stdout",
     "output_type": "stream",
     "text": [
      "Starting Spark application\n"
     ]
    },
    {
     "data": {
      "text/html": [
       "<table>\n",
       "<tr><th>ID</th><th>YARN Application ID</th><th>Kind</th><th>State</th><th>Spark UI</th><th>Driver log</th><th>Current session?</th></tr><tr><td>0</td><td>application_1579524779559_0001</td><td>pyspark</td><td>idle</td><td><a target=\"_blank\" href=\"http://ip-172-31-0-128.ec2.internal:20888/proxy/application_1579524779559_0001/\">Link</a></td><td><a target=\"_blank\" href=\"http://ip-172-31-0-128.ec2.internal:8042/node/containerlogs/container_1579524779559_0001_01_000001/livy\">Link</a></td><td>✔</td></tr></table>"
      ],
      "text/plain": [
       "<IPython.core.display.HTML object>"
      ]
     },
     "metadata": {},
     "output_type": "display_data"
    },
    {
     "name": "stdout",
     "output_type": "stream",
     "text": [
      "SparkSession available as 'spark'.\n",
      "<pyspark.sql.session.SparkSession object at 0x7fcb81570d90>"
     ]
    }
   ],
   "source": [
    "spark"
   ]
  },
  {
   "cell_type": "code",
   "execution_count": 2,
   "metadata": {
    "autoscroll": "auto"
   },
   "outputs": [
    {
     "name": "stdout",
     "output_type": "stream",
     "text": [
      "25"
     ]
    }
   ],
   "source": [
    "rdd_clients = spark.read.format(\n",
    "   \"com.databricks.spark.csv\").option(\n",
    "   \"header\", \"true\").option(\n",
    "   \"inferSchema\", \"true\").option(\n",
    "   \"delimiter\", ',').load(\n",
    "   's3://treinamento-big-data/clients.csv')\n",
    "rdd_clients.count()"
   ]
  },
  {
   "cell_type": "code",
   "execution_count": 3,
   "metadata": {
    "autoscroll": "auto"
   },
   "outputs": [
    {
     "name": "stdout",
     "output_type": "stream",
     "text": [
      "root\n",
      " |-- client_id: integer (nullable = true)\n",
      " |-- joined: timestamp (nullable = true)\n",
      " |-- income: integer (nullable = true)\n",
      " |-- credit_score: integer (nullable = true)"
     ]
    }
   ],
   "source": [
    "# Verificando Metadados da tabela\n",
    "rdd_clients.printSchema()"
   ]
  },
  {
   "cell_type": "code",
   "execution_count": 4,
   "metadata": {
    "autoscroll": "auto"
   },
   "outputs": [
    {
     "name": "stdout",
     "output_type": "stream",
     "text": [
      "+---------+-------------------+------+------------+\n",
      "|client_id|             joined|income|credit_score|\n",
      "+---------+-------------------+------+------------+\n",
      "|    46109|2002-04-16 00:00:00|172677|         527|\n",
      "|    49545|2007-11-14 00:00:00|104564|         770|\n",
      "|    41480|2013-03-11 00:00:00|122607|         585|\n",
      "|    46180|2001-11-06 00:00:00| 43851|         562|\n",
      "|    25707|2006-10-06 00:00:00|211422|         621|\n",
      "|    39505|2011-10-14 00:00:00|153873|         610|\n",
      "|    32726|2006-05-01 00:00:00|235705|         730|\n",
      "|    35089|2010-03-01 00:00:00|131176|         771|\n",
      "|    35214|2003-08-08 00:00:00| 95849|         696|\n",
      "|    48177|2008-06-09 00:00:00|190632|         769|\n",
      "|    26326|2004-05-06 00:00:00|227920|         633|\n",
      "|    42320|2000-04-27 00:00:00|229481|         563|\n",
      "|    32961|2009-04-07 00:00:00|230341|         714|\n",
      "|    29841|2002-08-17 00:00:00| 38354|         523|\n",
      "|    44601|2004-10-20 00:00:00|156341|         518|\n",
      "|    32885|2002-05-13 00:00:00| 58955|         642|\n",
      "|    49068|2004-02-12 00:00:00|128813|         603|\n",
      "|    44387|2009-07-14 00:00:00|151903|         781|\n",
      "|    39384|2000-06-18 00:00:00|191204|         617|\n",
      "|    26695|2004-08-27 00:00:00|174532|         680|\n",
      "+---------+-------------------+------+------------+\n",
      "only showing top 20 rows"
     ]
    }
   ],
   "source": [
    "# Verificando 20 linhas da tabela\n",
    "rdd_clients.show()"
   ]
  },
  {
   "cell_type": "code",
   "execution_count": 5,
   "metadata": {
    "autoscroll": "auto"
   },
   "outputs": [
    {
     "name": "stdout",
     "output_type": "stream",
     "text": [
      "3456"
     ]
    }
   ],
   "source": [
    "rdd_payments = spark.read.format(\n",
    "   \"com.databricks.spark.csv\").option(\n",
    "   \"header\", \"true\").option(\n",
    "   \"inferSchema\", \"true\").option(\n",
    "   \"delimiter\", ',').load(\n",
    "   's3://treinamento-big-data/payments.csv')\n",
    "   \n",
    "rdd_payments.count()"
   ]
  },
  {
   "cell_type": "code",
   "execution_count": 6,
   "metadata": {
    "autoscroll": "auto"
   },
   "outputs": [
    {
     "name": "stdout",
     "output_type": "stream",
     "text": [
      "root\n",
      " |-- loan_id: integer (nullable = true)\n",
      " |-- payment_amount: integer (nullable = true)\n",
      " |-- payment_date: timestamp (nullable = true)\n",
      " |-- missed: integer (nullable = true)"
     ]
    }
   ],
   "source": [
    "rdd_payments.printSchema()"
   ]
  },
  {
   "cell_type": "code",
   "execution_count": 7,
   "metadata": {
    "autoscroll": "auto"
   },
   "outputs": [
    {
     "name": "stdout",
     "output_type": "stream",
     "text": [
      "+-------+--------------+-------------------+------+\n",
      "|loan_id|payment_amount|       payment_date|missed|\n",
      "+-------+--------------+-------------------+------+\n",
      "|  10243|          2369|2002-05-31 00:00:00|     1|\n",
      "|  10243|          2439|2002-06-18 00:00:00|     1|\n",
      "|  10243|          2662|2002-06-29 00:00:00|     0|\n",
      "|  10243|          2268|2002-07-20 00:00:00|     0|\n",
      "|  10243|          2027|2002-07-31 00:00:00|     1|\n",
      "|  10243|          2243|2002-09-16 00:00:00|     1|\n",
      "|  10984|          1466|2003-12-29 00:00:00|     0|\n",
      "|  10984|          1887|2004-02-01 00:00:00|     1|\n",
      "|  10984|          1360|2004-03-09 00:00:00|     1|\n",
      "|  10984|          1350|2004-03-29 00:00:00|     0|\n",
      "|  10984|          1728|2004-05-03 00:00:00|     1|\n",
      "|  10990|          1981|2006-04-05 00:00:00|     0|\n",
      "|  10990|          2284|2006-04-27 00:00:00|     1|\n",
      "|  10990|          1304|2006-05-12 00:00:00|     0|\n",
      "|  10990|          2253|2006-06-05 00:00:00|     1|\n",
      "|  10990|          2453|2006-07-17 00:00:00|     0|\n",
      "|  10990|          1903|2006-07-30 00:00:00|     0|\n",
      "|  10596|          1612|2011-01-25 00:00:00|     0|\n",
      "|  10596|          1499|2011-03-09 00:00:00|     1|\n",
      "|  10596|          1414|2011-04-10 00:00:00|     1|\n",
      "+-------+--------------+-------------------+------+\n",
      "only showing top 20 rows"
     ]
    }
   ],
   "source": [
    "rdd_payments.show()"
   ]
  },
  {
   "cell_type": "code",
   "execution_count": 8,
   "metadata": {
    "autoscroll": "auto"
   },
   "outputs": [
    {
     "name": "stdout",
     "output_type": "stream",
     "text": [
      "443"
     ]
    }
   ],
   "source": [
    "rdd_loan = spark.read.format(\n",
    "   \"com.databricks.spark.csv\").option(\n",
    "   \"header\", \"true\").option(\n",
    "   \"inferSchema\", \"true\").option(\n",
    "   \"delimiter\", ',').load(\n",
    "   's3://treinamento-big-data/loans.csv')\n",
    "rdd_loan.count()"
   ]
  },
  {
   "cell_type": "code",
   "execution_count": 9,
   "metadata": {
    "autoscroll": "auto"
   },
   "outputs": [
    {
     "name": "stdout",
     "output_type": "stream",
     "text": [
      "root\n",
      " |-- client_id: integer (nullable = true)\n",
      " |-- loan_type: string (nullable = true)\n",
      " |-- loan_amount: integer (nullable = true)\n",
      " |-- repaid: integer (nullable = true)\n",
      " |-- loan_id: integer (nullable = true)\n",
      " |-- loan_start: timestamp (nullable = true)\n",
      " |-- loan_end: timestamp (nullable = true)\n",
      " |-- rate: double (nullable = true)"
     ]
    }
   ],
   "source": [
    "rdd_loan.printSchema()"
   ]
  },
  {
   "cell_type": "code",
   "execution_count": 10,
   "metadata": {
    "autoscroll": "auto"
   },
   "outputs": [
    {
     "name": "stdout",
     "output_type": "stream",
     "text": [
      "+---------+---------+-----------+------+-------+-------------------+-------------------+----+\n",
      "|client_id|loan_type|loan_amount|repaid|loan_id|         loan_start|           loan_end|rate|\n",
      "+---------+---------+-----------+------+-------+-------------------+-------------------+----+\n",
      "|    46109|     home|      13672|     0|  10243|2002-04-16 00:00:00|2003-12-20 00:00:00|2.15|\n",
      "|    46109|   credit|       9794|     0|  10984|2003-10-21 00:00:00|2005-07-17 00:00:00|1.25|\n",
      "|    46109|     home|      12734|     1|  10990|2006-02-01 00:00:00|2007-07-05 00:00:00|0.68|\n",
      "|    46109|     cash|      12518|     1|  10596|2010-12-08 00:00:00|2013-05-05 00:00:00|1.24|\n",
      "|    46109|   credit|      14049|     1|  11415|2010-07-07 00:00:00|2012-05-21 00:00:00|3.13|\n",
      "|    46109|     home|       6935|     0|  11501|2006-09-17 00:00:00|2008-11-26 00:00:00|1.94|\n",
      "|    46109|     cash|       6177|     1|  11141|2007-03-12 00:00:00|2009-04-26 00:00:00|9.48|\n",
      "|    46109|     home|      12656|     0|  11658|2006-05-26 00:00:00|2007-10-15 00:00:00|4.14|\n",
      "|    46109|     home|      11062|     1|  11611|2012-09-12 00:00:00|2014-03-14 00:00:00|5.48|\n",
      "|    46109|    other|       4050|     1|  10828|2003-12-06 00:00:00|2005-08-19 00:00:00|4.26|\n",
      "|    46109|    other|       1618|     0|  11661|2006-08-28 00:00:00|2009-04-23 00:00:00|6.49|\n",
      "|    46109|     home|       8406|     0|  11259|2011-10-22 00:00:00|2013-06-11 00:00:00| 0.5|\n",
      "|    46109|     cash|       9057|     1|  10856|2005-06-17 00:00:00|2007-03-01 00:00:00|0.86|\n",
      "|    46109|   credit|       3524|     0|  11867|2005-09-18 00:00:00|2007-08-27 00:00:00|5.98|\n",
      "|    46109|    other|      10853|     0|  11961|2013-11-26 00:00:00|2015-08-06 00:00:00|2.82|\n",
      "|    46109|   credit|       7339|     1|  10328|2001-09-24 00:00:00|2003-08-31 00:00:00|1.29|\n",
      "|    46109|   credit|      11953|     1|  11307|2013-05-15 00:00:00|2015-03-15 00:00:00| 3.3|\n",
      "|    46109|    other|      10067|     1|  10422|2004-04-05 00:00:00|2006-10-13 00:00:00|3.12|\n",
      "|    46109|   credit|      12009|     0|  11424|2001-03-25 00:00:00|2003-10-04 00:00:00|0.79|\n",
      "|    46109|   credit|        559|     1|  10599|2008-02-15 00:00:00|2009-11-25 00:00:00|4.15|\n",
      "+---------+---------+-----------+------+-------+-------------------+-------------------+----+\n",
      "only showing top 20 rows"
     ]
    }
   ],
   "source": [
    "rdd_loan.show()"
   ]
  },
  {
   "cell_type": "markdown",
   "metadata": {},
   "source": [
    "# Registrando tabela para uso no Hive(SQL) - somente na sessão"
   ]
  },
  {
   "cell_type": "code",
   "execution_count": 44,
   "metadata": {
    "autoscroll": "auto"
   },
   "outputs": [],
   "source": [
    "payments_dfm = rdd_payments.registerTempTable(\"payments_dfm\")\n",
    "clients_dfm = rdd_clients.registerTempTable(\"clients_dfm\")\n",
    "loans_dfm = rdd_loan.registerTempTable(\"loans_dfm\")"
   ]
  },
  {
   "cell_type": "code",
   "execution_count": 12,
   "metadata": {
    "autoscroll": "auto"
   },
   "outputs": [
    {
     "name": "stdout",
     "output_type": "stream",
     "text": [
      "+---------+---------+-----------+------+-------+-------------------+-------------------+----+----------+----------+-----------------+------------------+-----------------+\n",
      "|client_id|loan_type|loan_amount|repaid|loan_id|         loan_start|           loan_end|rate| DT_INICIO|    DT_FIM|QT_DIAS_START_END|QT_MESES_START_END|QT_ANOS_START_END|\n",
      "+---------+---------+-----------+------+-------+-------------------+-------------------+----+----------+----------+-----------------+------------------+-----------------+\n",
      "|    46109|     home|      13672|     0|  10243|2002-04-16 00:00:00|2003-12-20 00:00:00|2.15|2002-04-16|2003-12-20|              613|                20|              2.0|\n",
      "|    46109|     home|      12734|     1|  10990|2006-02-01 00:00:00|2007-07-05 00:00:00|0.68|2006-02-01|2007-07-05|              519|                17|              1.0|\n",
      "|    46109|     home|      12656|     0|  11658|2006-05-26 00:00:00|2007-10-15 00:00:00|4.14|2006-05-26|2007-10-15|              507|                17|              1.0|\n",
      "|    46109|     home|       6935|     0|  11501|2006-09-17 00:00:00|2008-11-26 00:00:00|1.94|2006-09-17|2008-11-26|              801|                26|              2.0|\n",
      "|    46109|     home|       8406|     0|  11259|2011-10-22 00:00:00|2013-06-11 00:00:00| 0.5|2011-10-22|2013-06-11|              598|                20|              2.0|\n",
      "|    46109|     home|      11062|     1|  11611|2012-09-12 00:00:00|2014-03-14 00:00:00|5.48|2012-09-12|2014-03-14|              548|                18|              2.0|\n",
      "+---------+---------+-----------+------+-------+-------------------+-------------------+----+----------+----------+-----------------+------------------+-----------------+"
     ]
    }
   ],
   "source": [
    "spark.sql(\n",
    "             \"\"\"SELECT \n",
    "                    *,\n",
    "                    cast(loan_start as date) as DT_INICIO,\n",
    "                    cast(loan_end as date) as DT_FIM,\n",
    "                    datediff(cast(loan_end as date),cast(loan_start as date)) as QT_DIAS_START_END,\n",
    "                    round(datediff(cast(loan_end as date),cast(loan_start as date))/30.5) as QT_MESES_START_END,\n",
    "                    round(datediff(cast(loan_end as date),cast(loan_start as date))/365) as QT_ANOS_START_END\n",
    "                FROM\n",
    "                    loans_dfm \n",
    "                WHERE \n",
    "                    client_id = 46109 and loan_type in ('home') \n",
    "                order by cast(loan_start as date)    \n",
    "             \"\"\"\n",
    "         ).show()"
   ]
  },
  {
   "cell_type": "code",
   "execution_count": 13,
   "metadata": {
    "autoscroll": "auto"
   },
   "outputs": [
    {
     "name": "stdout",
     "output_type": "stream",
     "text": [
      "+-------+--------------+-------------------+------+----------+\n",
      "|loan_id|payment_amount|       payment_date|missed|   DT_PGTO|\n",
      "+-------+--------------+-------------------+------+----------+\n",
      "|  10243|          2369|2002-05-31 00:00:00|     1|2002-05-31|\n",
      "|  10243|          2439|2002-06-18 00:00:00|     1|2002-06-18|\n",
      "|  10243|          2662|2002-06-29 00:00:00|     0|2002-06-29|\n",
      "|  10243|          2268|2002-07-20 00:00:00|     0|2002-07-20|\n",
      "|  10243|          2027|2002-07-31 00:00:00|     1|2002-07-31|\n",
      "|  10243|          2243|2002-09-16 00:00:00|     1|2002-09-16|\n",
      "+-------+--------------+-------------------+------+----------+"
     ]
    }
   ],
   "source": [
    "spark.sql(\n",
    "             \"\"\"SELECT \n",
    "                    *,\n",
    "                    cast(payment_date as date ) as DT_PGTO\n",
    "                    --min(payment_date) as DT_PRIMEIRO_PAGAMENTO,\n",
    "                    --max(payment_date) as DT_ULTIMO_PAGAMENTO,\n",
    "                FROM\n",
    "                    payments_dfm \n",
    "                WHERE \n",
    "                    loan_id = 10243 \n",
    "             \"\"\"\n",
    "         ).show()"
   ]
  },
  {
   "cell_type": "code",
   "execution_count": 14,
   "metadata": {
    "autoscroll": "auto"
   },
   "outputs": [
    {
     "name": "stdout",
     "output_type": "stream",
     "text": [
      "+-------+------------+----------------+------+---------------------+-------------------+--------+\n",
      "|loan_id|VL_PGTO_MISS|VL_PGTO_NOT_MISS|VL_TOT|DT_PRIMEIRO_PAGAMENTO|DT_ULTIMO_PAGAMENTO|QT_PGTOS|\n",
      "+-------+------------+----------------+------+---------------------+-------------------+--------+\n",
      "|  10243|        4930|            9078| 14008|           2002-05-31|         2002-09-16|       6|\n",
      "+-------+------------+----------------+------+---------------------+-------------------+--------+"
     ]
    }
   ],
   "source": [
    "spark.sql(\n",
    "             \"\"\"SELECT\n",
    "                    loan_id,\n",
    "                    sum(case when missed = 1 then 0 else payment_amount end) as VL_PGTO_MISS,\n",
    "                    sum(case when missed = 0 then 0 else payment_amount end) as VL_PGTO_NOT_MISS,\n",
    "                    sum(payment_amount) as VL_TOT,\n",
    "                    cast(min(payment_date) as date) as DT_PRIMEIRO_PAGAMENTO,\n",
    "                    cast(max(payment_date) as date) as DT_ULTIMO_PAGAMENTO,\n",
    "                    count(*) as QT_PGTOS\n",
    "                FROM\n",
    "                    payments_dfm \n",
    "                WHERE \n",
    "                    loan_id = 10243\n",
    "                GROUP BY  \n",
    "                    loan_id\n",
    "             \"\"\"\n",
    "         ).show()"
   ]
  },
  {
   "cell_type": "code",
   "execution_count": 15,
   "metadata": {
    "autoscroll": "auto"
   },
   "outputs": [
    {
     "name": "stdout",
     "output_type": "stream",
     "text": [
      "+---------+-------------------+------+------------+------------+----------+-------------+\n",
      "|client_id|             joined|income|credit_score|VL_LOG_RENDA| DT_JOINED|VL_MES_JOINED|\n",
      "+---------+-------------------+------+------------+------------+----------+-------------+\n",
      "|    46109|2002-04-16 00:00:00|172677|         527|     12.0592|2002-04-16|           04|\n",
      "|    49545|2007-11-14 00:00:00|104564|         770|     11.5576|2007-11-14|           11|\n",
      "|    41480|2013-03-11 00:00:00|122607|         585|     11.7167|2013-03-11|           03|\n",
      "|    46180|2001-11-06 00:00:00| 43851|         562|     10.6886|2001-11-06|           11|\n",
      "|    25707|2006-10-06 00:00:00|211422|         621|     12.2616|2006-10-06|           10|\n",
      "|    39505|2011-10-14 00:00:00|153873|         610|     11.9439|2011-10-14|           10|\n",
      "|    32726|2006-05-01 00:00:00|235705|         730|     12.3703|2006-05-01|           05|\n",
      "|    35089|2010-03-01 00:00:00|131176|         771|     11.7843|2010-03-01|           03|\n",
      "|    35214|2003-08-08 00:00:00| 95849|         696|     11.4705|2003-08-08|           08|\n",
      "|    48177|2008-06-09 00:00:00|190632|         769|     12.1581|2008-06-09|           06|\n",
      "|    26326|2004-05-06 00:00:00|227920|         633|     12.3367|2004-05-06|           05|\n",
      "|    42320|2000-04-27 00:00:00|229481|         563|     12.3436|2000-04-27|           04|\n",
      "|    32961|2009-04-07 00:00:00|230341|         714|     12.3473|2009-04-07|           04|\n",
      "|    29841|2002-08-17 00:00:00| 38354|         523|     10.5546|2002-08-17|           08|\n",
      "|    44601|2004-10-20 00:00:00|156341|         518|     11.9598|2004-10-20|           10|\n",
      "|    32885|2002-05-13 00:00:00| 58955|         642|     10.9845|2002-05-13|           05|\n",
      "|    49068|2004-02-12 00:00:00|128813|         603|     11.7661|2004-02-12|           02|\n",
      "|    44387|2009-07-14 00:00:00|151903|         781|      11.931|2009-07-14|           07|\n",
      "|    39384|2000-06-18 00:00:00|191204|         617|     12.1611|2000-06-18|           06|\n",
      "|    26695|2004-08-27 00:00:00|174532|         680|     12.0699|2004-08-27|           08|\n",
      "+---------+-------------------+------+------------+------------+----------+-------------+\n",
      "only showing top 20 rows"
     ]
    }
   ],
   "source": [
    "clients_00 = spark.sql(\n",
    "                     \"\"\"SELECT \n",
    "                            *,\n",
    "                            round(log(income),4) as VL_LOG_RENDA,\n",
    "                            cast(joined as date) as DT_JOINED,\n",
    "                            substr(cast(joined as date),6,2) as VL_MES_JOINED\n",
    "                        FROM\n",
    "                            clients_dfm                     \n",
    "                     \"\"\"\n",
    "                     )\n",
    "clients_00_dfm = clients_00.registerTempTable(\"clients_00_dfm\")                     \n",
    "clients_00.show()"
   ]
  },
  {
   "cell_type": "code",
   "execution_count": 16,
   "metadata": {
    "autoscroll": "auto"
   },
   "outputs": [
    {
     "name": "stdout",
     "output_type": "stream",
     "text": [
      "+---------+--------------+--------------+--------------+\n",
      "|client_id|VL_MED_EMP_CLI|VL_MIN_EMP_CLI|VL_MAX_EMP_CLI|\n",
      "+---------+--------------+--------------+--------------+\n",
      "|    35214|     7173.5556|           667|         14767|\n",
      "|    44601|       6869.25|          1221|         14104|\n",
      "|    26945|     7125.9333|           653|         14593|\n",
      "|    49545|       10289.3|          3851|         14971|\n",
      "|    49624|     9174.5333|          2361|         14679|\n",
      "+---------+--------------+--------------+--------------+\n",
      "only showing top 5 rows"
     ]
    }
   ],
   "source": [
    "loans_00 = spark.sql(\n",
    "                     \"\"\"SELECT \n",
    "                            client_id,\n",
    "                            round(avg(loan_amount),4) as VL_MED_EMP_CLI,\n",
    "                            min(loan_amount) as VL_MIN_EMP_CLI,\n",
    "                            max(loan_amount) as VL_MAX_EMP_CLI\n",
    "                        FROM\n",
    "                            loans_dfm  \n",
    "                        group by client_id     \n",
    "                     \"\"\"\n",
    "                     )\n",
    "loans_00_dfm = loans_00.registerTempTable(\"loans_00_dfm\")                         \n",
    "loans_00.show(5)"
   ]
  },
  {
   "cell_type": "code",
   "execution_count": 17,
   "metadata": {
    "autoscroll": "auto"
   },
   "outputs": [
    {
     "name": "stdout",
     "output_type": "stream",
     "text": [
      "+---------+-------------------+------+------------+------------+----------+-------------+--------------+--------------+--------------+\n",
      "|client_id|             joined|income|credit_score|VL_LOG_RENDA| DT_JOINED|VL_MES_JOINED|VL_MED_EMP_CLI|VL_MIN_EMP_CLI|VL_MAX_EMP_CLI|\n",
      "+---------+-------------------+------+------------+------------+----------+-------------+--------------+--------------+--------------+\n",
      "|    46109|2002-04-16 00:00:00|172677|         527|     12.0592|2002-04-16|           04|        8951.6|           559|         14049|\n",
      "|    49545|2007-11-14 00:00:00|104564|         770|     11.5576|2007-11-14|           11|       10289.3|          3851|         14971|\n",
      "|    41480|2013-03-11 00:00:00|122607|         585|     11.7167|2013-03-11|           03|       7894.85|           811|         14399|\n",
      "|    46180|2001-11-06 00:00:00| 43851|         562|     10.6886|2001-11-06|           11|       7700.85|          1607|         14081|\n",
      "|    25707|2006-10-06 00:00:00|211422|         621|     12.2616|2006-10-06|           10|       7963.95|          1212|         13913|\n",
      "|    39505|2011-10-14 00:00:00|153873|         610|     11.9439|2011-10-14|           10|       7424.05|           904|         14575|\n",
      "|    32726|2006-05-01 00:00:00|235705|         730|     12.3703|2006-05-01|           05|     6633.2632|           851|         14802|\n",
      "|    35089|2010-03-01 00:00:00|131176|         771|     11.7843|2010-03-01|           03|        6939.2|           773|         13194|\n",
      "|    35214|2003-08-08 00:00:00| 95849|         696|     11.4705|2003-08-08|           08|     7173.5556|           667|         14767|\n",
      "|    48177|2008-06-09 00:00:00|190632|         769|     12.1581|2008-06-09|           06|     7424.3684|           659|         14740|\n",
      "|    26326|2004-05-06 00:00:00|227920|         633|     12.3367|2004-05-06|           05|     7270.0625|          1164|         13464|\n",
      "|    42320|2000-04-27 00:00:00|229481|         563|     12.3436|2000-04-27|           04|     7062.0667|          1070|         13887|\n",
      "|    32961|2009-04-07 00:00:00|230341|         714|     12.3473|2009-04-07|           04|     7882.2353|          1693|         14784|\n",
      "|    29841|2002-08-17 00:00:00| 38354|         523|     10.5546|2002-08-17|           08|        9813.0|          2778|         14837|\n",
      "|    44601|2004-10-20 00:00:00|156341|         518|     11.9598|2004-10-20|           10|       6869.25|          1221|         14104|\n",
      "|    32885|2002-05-13 00:00:00| 58955|         642|     10.9845|2002-05-13|           05|        9920.4|          3704|         14162|\n",
      "|    49068|2004-02-12 00:00:00|128813|         603|     11.7661|2004-02-12|           02|     7617.8889|          1447|         13910|\n",
      "|    44387|2009-07-14 00:00:00|151903|         781|      11.931|2009-07-14|           07|     7387.7333|           765|         14900|\n",
      "|    39384|2000-06-18 00:00:00|191204|         617|     12.1611|2000-06-18|           06|     7865.4737|          1770|         14654|\n",
      "|    26695|2004-08-27 00:00:00|174532|         680|     12.0699|2004-08-27|           08|     7824.7222|          2389|         14865|\n",
      "+---------+-------------------+------+------------+------------+----------+-------------+--------------+--------------+--------------+\n",
      "only showing top 20 rows"
     ]
    }
   ],
   "source": [
    "clientes_01 = spark.sql(\n",
    "                     \"\"\"SELECT \n",
    "                            a.*,\n",
    "                            b.VL_MED_EMP_CLI,\n",
    "                            b.VL_MIN_EMP_CLI,\n",
    "                            b.VL_MAX_EMP_CLI\n",
    "                        FROM\n",
    "                            clients_00_dfm as a  \n",
    "                        left join  loans_00_dfm as b\n",
    "                        on a.client_id = b.client_id\n",
    "                     \"\"\"\n",
    "                     )\n",
    "                     \n",
    "clientes_01.show()"
   ]
  },
  {
   "cell_type": "code",
   "execution_count": 18,
   "metadata": {
    "autoscroll": "auto"
   },
   "outputs": [
    {
     "name": "stdout",
     "output_type": "stream",
     "text": [
      "+---------+---------+-----------+------+-------+-------------------+-------------------+----+--------------+-------------------+------+\n",
      "|client_id|loan_type|loan_amount|repaid|loan_id|         loan_start|           loan_end|rate|payment_amount|       payment_date|missed|\n",
      "+---------+---------+-----------+------+-------+-------------------+-------------------+----+--------------+-------------------+------+\n",
      "|    46109|     home|      13672|     0|  10243|2002-04-16 00:00:00|2003-12-20 00:00:00|2.15|          2243|2002-09-16 00:00:00|     1|\n",
      "|    46109|     home|      13672|     0|  10243|2002-04-16 00:00:00|2003-12-20 00:00:00|2.15|          2027|2002-07-31 00:00:00|     1|\n",
      "|    46109|     home|      13672|     0|  10243|2002-04-16 00:00:00|2003-12-20 00:00:00|2.15|          2268|2002-07-20 00:00:00|     0|\n",
      "|    46109|     home|      13672|     0|  10243|2002-04-16 00:00:00|2003-12-20 00:00:00|2.15|          2662|2002-06-29 00:00:00|     0|\n",
      "|    46109|     home|      13672|     0|  10243|2002-04-16 00:00:00|2003-12-20 00:00:00|2.15|          2439|2002-06-18 00:00:00|     1|\n",
      "|    46109|     home|      13672|     0|  10243|2002-04-16 00:00:00|2003-12-20 00:00:00|2.15|          2369|2002-05-31 00:00:00|     1|\n",
      "|    46109|   credit|       9794|     0|  10984|2003-10-21 00:00:00|2005-07-17 00:00:00|1.25|          1728|2004-05-03 00:00:00|     1|\n",
      "|    46109|   credit|       9794|     0|  10984|2003-10-21 00:00:00|2005-07-17 00:00:00|1.25|          1350|2004-03-29 00:00:00|     0|\n",
      "|    46109|   credit|       9794|     0|  10984|2003-10-21 00:00:00|2005-07-17 00:00:00|1.25|          1360|2004-03-09 00:00:00|     1|\n",
      "|    46109|   credit|       9794|     0|  10984|2003-10-21 00:00:00|2005-07-17 00:00:00|1.25|          1887|2004-02-01 00:00:00|     1|\n",
      "|    46109|   credit|       9794|     0|  10984|2003-10-21 00:00:00|2005-07-17 00:00:00|1.25|          1466|2003-12-29 00:00:00|     0|\n",
      "|    46109|     home|      12734|     1|  10990|2006-02-01 00:00:00|2007-07-05 00:00:00|0.68|          1903|2006-07-30 00:00:00|     0|\n",
      "|    46109|     home|      12734|     1|  10990|2006-02-01 00:00:00|2007-07-05 00:00:00|0.68|          2453|2006-07-17 00:00:00|     0|\n",
      "|    46109|     home|      12734|     1|  10990|2006-02-01 00:00:00|2007-07-05 00:00:00|0.68|          2253|2006-06-05 00:00:00|     1|\n",
      "|    46109|     home|      12734|     1|  10990|2006-02-01 00:00:00|2007-07-05 00:00:00|0.68|          1304|2006-05-12 00:00:00|     0|\n",
      "|    46109|     home|      12734|     1|  10990|2006-02-01 00:00:00|2007-07-05 00:00:00|0.68|          2284|2006-04-27 00:00:00|     1|\n",
      "|    46109|     home|      12734|     1|  10990|2006-02-01 00:00:00|2007-07-05 00:00:00|0.68|          1981|2006-04-05 00:00:00|     0|\n",
      "|    46109|     cash|      12518|     1|  10596|2010-12-08 00:00:00|2013-05-05 00:00:00|1.24|          1904|2011-06-05 00:00:00|     1|\n",
      "|    46109|     cash|      12518|     1|  10596|2010-12-08 00:00:00|2013-05-05 00:00:00|1.24|          1252|2011-04-25 00:00:00|     1|\n",
      "|    46109|     cash|      12518|     1|  10596|2010-12-08 00:00:00|2013-05-05 00:00:00|1.24|          1414|2011-04-10 00:00:00|     1|\n",
      "+---------+---------+-----------+------+-------+-------------------+-------------------+----+--------------+-------------------+------+\n",
      "only showing top 20 rows"
     ]
    }
   ],
   "source": [
    "loans_02 = spark.sql(\n",
    "                     \"\"\"SELECT \n",
    "                            a.*,\n",
    "                            b.payment_amount,\n",
    "                            b.payment_date,\n",
    "                            b.missed\n",
    "                        FROM\n",
    "                            loans_dfm as a  \n",
    "                        left join  payments_dfm as b\n",
    "                        on a.loan_id = b.loan_id\n",
    "                     \"\"\"\n",
    "                     )\n",
    "loans_02_dfm = loans_02.registerTempTable(\"loans_02_dfm\")                       \n",
    "loans_02.show()"
   ]
  },
  {
   "cell_type": "code",
   "execution_count": 19,
   "metadata": {
    "autoscroll": "auto"
   },
   "outputs": [
    {
     "name": "stdout",
     "output_type": "stream",
     "text": [
      "+---------+-----------------+-----------------+\n",
      "|loan_type|VL_MED_PAGAMENTOS|QT_CONTRATOS_TIPO|\n",
      "+---------+-----------------+-----------------+\n",
      "|     cash|          1193.27|              824|\n",
      "|    other|           1238.5|              807|\n",
      "|     home|          1195.86|              981|\n",
      "|   credit|          1189.83|              844|\n",
      "+---------+-----------------+-----------------+"
     ]
    }
   ],
   "source": [
    "loans_03 = spark.sql(\n",
    "                     \"\"\"SELECT \n",
    "                            loan_type,\n",
    "                            round(avg(payment_amount),2) as VL_MED_PAGAMENTOS,\n",
    "                            count(*) as QT_CONTRATOS_TIPO\n",
    "                        FROM\n",
    "                            loans_02_dfm \n",
    "                        group by 1  \n",
    "                     \"\"\"\n",
    "                     )\n",
    "loans_03_dfm = loans_03.registerTempTable(\"loans_03_dfm\")                       \n",
    "loans_03.show()"
   ]
  },
  {
   "cell_type": "code",
   "execution_count": 20,
   "metadata": {
    "autoscroll": "auto"
   },
   "outputs": [
    {
     "name": "stdout",
     "output_type": "stream",
     "text": [
      "+---------+-----------+------------------+-----------------+\n",
      "|client_id|QT_EMP_CASH|    VL_MEDEMP_CASH|QT_CONTRATOS_TIPO|\n",
      "+---------+-----------+------------------+-----------------+\n",
      "|    35214|         29| 1818.367469879518|              166|\n",
      "|    44601|         26| 932.4615384615385|              156|\n",
      "|    26945|         11| 883.2053571428571|              112|\n",
      "|    49545|         41|2411.3350785340313|              191|\n",
      "|    49624|         20| 2235.940594059406|              101|\n",
      "|    46109|         21| 1308.241134751773|              141|\n",
      "|    42320|         42|3107.3083333333334|              120|\n",
      "|    32726|         14|1153.5099337748345|              151|\n",
      "|    29841|         31|1749.7733333333333|              150|\n",
      "|    49068|         83|3630.6241610738257|              149|\n",
      "|    41480|         33|1595.3245033112582|              151|\n",
      "|    38537|         23|1569.7967479674796|              123|\n",
      "|    32961|         32| 1076.854961832061|              131|\n",
      "|    32885|         38|3582.5652173913045|              115|\n",
      "|    25707|         34|1799.2298136645963|              161|\n",
      "|    39505|         43|1913.2781456953642|              151|\n",
      "|    39384|         54|3114.3356164383563|              146|\n",
      "|    46958|         16|            1221.0|               92|\n",
      "|    26695|         22|1185.4779411764705|              136|\n",
      "|    35089|         29| 936.3207547169811|              159|\n",
      "+---------+-----------+------------------+-----------------+\n",
      "only showing top 20 rows"
     ]
    }
   ],
   "source": [
    "loans_04 = spark.sql(\n",
    "                     \"\"\"SELECT \n",
    "                            client_id,\n",
    "                            sum(case when loan_type in ('cash') then 1 else 0 end) as QT_EMP_CASH,\n",
    "                            avg(case when loan_type in ('cash') then loan_amount else 0 end) as VL_MEDEMP_CASH,\n",
    "                            count(*) as QT_CONTRATOS_TIPO\n",
    "                        FROM\n",
    "                            loans_02_dfm \n",
    "                        group by 1  \n",
    "                     \"\"\"\n",
    "                     )\n",
    "loans_04_dfm = loans_04.registerTempTable(\"loans_04_dfm\")                       \n",
    "loans_04.show()"
   ]
  },
  {
   "cell_type": "code",
   "execution_count": 21,
   "metadata": {
    "autoscroll": "auto"
   },
   "outputs": [
    {
     "name": "stdout",
     "output_type": "stream",
     "text": [
      "datetime.datetime(2020, 1, 20, 11, 37, 20, 76318)"
     ]
    }
   ],
   "source": [
    "import time\n",
    "from datetime import datetime\n",
    "from datetime import date, timedelta\n",
    "dataref = datetime.now()-timedelta(0, 0, 0, 0, 0, +2)\n",
    "anomesdia = dataref.strftime(\"%Y%m%d\")\n",
    "dataref\n",
    "#print('Data Hoje: ',dataref.strftime(\"%Y%m%d\"))"
   ]
  },
  {
   "cell_type": "code",
   "execution_count": 22,
   "metadata": {
    "autoscroll": "auto"
   },
   "outputs": [
    {
     "name": "stdout",
     "output_type": "stream",
     "text": [
      "+---------+-----------+------------------+-----------------+---------+\n",
      "|client_id|QT_EMP_CASH|    VL_MEDEMP_CASH|QT_CONTRATOS_TIPO|PK_DATREF|\n",
      "+---------+-----------+------------------+-----------------+---------+\n",
      "|    35214|         29| 1818.367469879518|              166| 20200120|\n",
      "|    44601|         26| 932.4615384615385|              156| 20200120|\n",
      "|    26945|         11| 883.2053571428571|              112| 20200120|\n",
      "|    49545|         41|2411.3350785340313|              191| 20200120|\n",
      "|    49624|         20| 2235.940594059406|              101| 20200120|\n",
      "|    46109|         21| 1308.241134751773|              141| 20200120|\n",
      "|    42320|         42|3107.3083333333334|              120| 20200120|\n",
      "|    32726|         14|1153.5099337748345|              151| 20200120|\n",
      "|    29841|         31|1749.7733333333333|              150| 20200120|\n",
      "|    49068|         83|3630.6241610738257|              149| 20200120|\n",
      "|    41480|         33|1595.3245033112582|              151| 20200120|\n",
      "|    38537|         23|1569.7967479674796|              123| 20200120|\n",
      "|    32961|         32| 1076.854961832061|              131| 20200120|\n",
      "|    32885|         38|3582.5652173913045|              115| 20200120|\n",
      "|    25707|         34|1799.2298136645963|              161| 20200120|\n",
      "|    39505|         43|1913.2781456953642|              151| 20200120|\n",
      "|    39384|         54|3114.3356164383563|              146| 20200120|\n",
      "|    46958|         16|            1221.0|               92| 20200120|\n",
      "|    26695|         22|1185.4779411764705|              136| 20200120|\n",
      "|    35089|         29| 936.3207547169811|              159| 20200120|\n",
      "+---------+-----------+------------------+-----------------+---------+\n",
      "only showing top 20 rows"
     ]
    }
   ],
   "source": [
    "etl_final = spark.sql(\n",
    "                     \"\"\"SELECT \n",
    "                            *,\n",
    "                            '{}' as PK_DATREF\n",
    "                        FROM\n",
    "                            loans_04_dfm \n",
    "                     \"\"\".format(anomesdia)\n",
    "                     )\n",
    "             \n",
    "etl_final.show()"
   ]
  },
  {
   "cell_type": "code",
   "execution_count": 30,
   "metadata": {},
   "outputs": [
    {
     "name": "stdout",
     "output_type": "stream",
     "text": [
      "25"
     ]
    }
   ],
   "source": [
    "etl_final.count()"
   ]
  },
  {
   "cell_type": "code",
   "execution_count": 34,
   "metadata": {
    "autoscroll": "auto"
   },
   "outputs": [
    {
     "name": "stderr",
     "output_type": "stream",
     "text": [
      "u'path hdfs://ip-172-31-0-128.ec2.internal:8020/user/livy/etl_final_00.parquet already exists.;'\n",
      "Traceback (most recent call last):\n",
      "  File \"/usr/lib/spark/python/lib/pyspark.zip/pyspark/sql/readwriter.py\", line 843, in parquet\n",
      "    self._jwrite.parquet(path)\n",
      "  File \"/usr/lib/spark/python/lib/py4j-0.10.7-src.zip/py4j/java_gateway.py\", line 1257, in __call__\n",
      "    answer, self.gateway_client, self.target_id, self.name)\n",
      "  File \"/usr/lib/spark/python/lib/pyspark.zip/pyspark/sql/utils.py\", line 69, in deco\n",
      "    raise AnalysisException(s.split(': ', 1)[1], stackTrace)\n",
      "AnalysisException: u'path hdfs://ip-172-31-0-128.ec2.internal:8020/user/livy/etl_final_00.parquet already exists.;'\n",
      "\n"
     ]
    }
   ],
   "source": [
    "etl_final.write.parquet(\"etl_final_00.parquet\")\n",
    "# Verificar os arquivos no sistema hdfs:\n",
    "# hdfs dfs -ls /user/zeppelin\n",
    "# hdfs dfs -ls /user/livy"
   ]
  },
  {
   "cell_type": "code",
   "execution_count": 49,
   "metadata": {
    "autoscroll": "auto",
    "scrolled": true
   },
   "outputs": [
    {
     "name": "stdout",
     "output_type": "stream",
     "text": [
      "+--------+------------+-----------+\n",
      "|database|   tableName|isTemporary|\n",
      "+--------+------------+-----------+\n",
      "| default|etl_final_00|      false|\n",
      "|        | clients_dfm|       true|\n",
      "|        |   loans_dfm|       true|\n",
      "|        |payments_dfm|       true|\n",
      "+--------+------------+-----------+"
     ]
    }
   ],
   "source": [
    "from pyspark.sql import HiveContext\n",
    "hive_context = HiveContext(sc)\n",
    "\n",
    "# Salvando a tabela como temporária no Hive\n",
    "#hive_context.registerDataFrameAsTable(etl_final, \"etl_final_00\")\n",
    "\n",
    "# Salvando a tabela no schema (database) treinamento como permanente do Hive (modo append)\n",
    "etl_final.write.mode('append').saveAsTable(\"default.etl_final_00\")\n",
    "hive_context.sql(\"show tables in default\").show()\n",
    "#hive_context.sql(\"drop table etl_final_00\").show()\n",
    "#hive_context.sql(\"drop table etl_final_01\").show()"
   ]
  },
  {
   "cell_type": "code",
   "execution_count": 45,
   "metadata": {
    "autoscroll": "auto"
   },
   "outputs": [
    {
     "name": "stdout",
     "output_type": "stream",
     "text": [
      "+------------+\n",
      "|databaseName|\n",
      "+------------+\n",
      "|     default|\n",
      "+------------+"
     ]
    }
   ],
   "source": [
    "spark.sql(\"show databases\").show()"
   ]
  },
  {
   "cell_type": "code",
   "execution_count": 35,
   "metadata": {
    "autoscroll": "auto"
   },
   "outputs": [],
   "source": [
    "spark.catalog.dropTempView(\"clients_00_dfm\") \n",
    "spark.catalog.dropTempView(\"clients_dfm\") \n",
    "spark.catalog.dropTempView(\"loans_00_dfm\") \n",
    "spark.catalog.dropTempView(\"loans_02_dfm\") \n",
    "spark.catalog.dropTempView(\"loans_03_dfm\") \n",
    "spark.catalog.dropTempView(\"loans_04_dfm\") \n",
    "spark.catalog.dropTempView(\"loans_dfm\") \n",
    "spark.catalog.dropTempView(\"payments_dfm\")"
   ]
  },
  {
   "cell_type": "code",
   "execution_count": 36,
   "metadata": {
    "autoscroll": "auto"
   },
   "outputs": [
    {
     "name": "stdout",
     "output_type": "stream",
     "text": [
      "+--------+------------+-----------+\n",
      "|database|   tableName|isTemporary|\n",
      "+--------+------------+-----------+\n",
      "| default|etl_final_00|      false|\n",
      "+--------+------------+-----------+"
     ]
    }
   ],
   "source": [
    "hive_context.sql(\"show tables in default\").show()"
   ]
  },
  {
   "cell_type": "code",
   "execution_count": 39,
   "metadata": {
    "autoscroll": "auto"
   },
   "outputs": [
    {
     "name": "stdout",
     "output_type": "stream",
     "text": [
      "+---------+-----------+------------------+-----------------+---------+\n",
      "|client_id|QT_EMP_CASH|    VL_MEDEMP_CASH|QT_CONTRATOS_TIPO|PK_DATREF|\n",
      "+---------+-----------+------------------+-----------------+---------+\n",
      "|    35214|         29| 1818.367469879518|              166| 20200120|\n",
      "|    44601|         26| 932.4615384615385|              156| 20200120|\n",
      "|    35214|         29| 1818.367469879518|              166| 20200120|\n",
      "|    44601|         26| 932.4615384615385|              156| 20200120|\n",
      "|    26945|         11| 883.2053571428571|              112| 20200120|\n",
      "|    26945|         11| 883.2053571428571|              112| 20200120|\n",
      "|    49545|         41|2411.3350785340313|              191| 20200120|\n",
      "|    49545|         41|2411.3350785340313|              191| 20200120|\n",
      "|    49624|         20| 2235.940594059406|              101| 20200120|\n",
      "|    49624|         20| 2235.940594059406|              101| 20200120|\n",
      "|    46109|         21| 1308.241134751773|              141| 20200120|\n",
      "|    46109|         21| 1308.241134751773|              141| 20200120|\n",
      "|    42320|         42|3107.3083333333334|              120| 20200120|\n",
      "|    42320|         42|3107.3083333333334|              120| 20200120|\n",
      "|    32726|         14|1153.5099337748345|              151| 20200120|\n",
      "|    32726|         14|1153.5099337748345|              151| 20200120|\n",
      "|    29841|         31|1749.7733333333333|              150| 20200120|\n",
      "|    29841|         31|1749.7733333333333|              150| 20200120|\n",
      "|    49068|         83|3630.6241610738257|              149| 20200120|\n",
      "|    49068|         83|3630.6241610738257|              149| 20200120|\n",
      "+---------+-----------+------------------+-----------------+---------+\n",
      "only showing top 20 rows"
     ]
    }
   ],
   "source": [
    "tab_hive = hive_context.sql(\"select * from default.etl_final_00\").show()"
   ]
  },
  {
   "cell_type": "code",
   "execution_count": 40,
   "metadata": {
    "autoscroll": "auto"
   },
   "outputs": [
    {
     "name": "stdout",
     "output_type": "stream",
     "text": [
      "+--------+------------+-----------+\n",
      "|database|   tableName|isTemporary|\n",
      "+--------+------------+-----------+\n",
      "| default|etl_final_00|      false|\n",
      "| default|etl_final_01|      false|\n",
      "+--------+------------+-----------+"
     ]
    }
   ],
   "source": [
    "# Salvando a tabela no schema (database) treinamento como permanente do Hive (modo append) particionado\n",
    "etl_final.write.mode('append').partitionBy('PK_DATREF').saveAsTable(\"default.etl_final_01\")\n",
    "\n",
    "hive_context.sql(\"show tables in default\").show()"
   ]
  },
  {
   "cell_type": "code",
   "execution_count": 41,
   "metadata": {
    "autoscroll": "auto"
   },
   "outputs": [
    {
     "name": "stdout",
     "output_type": "stream",
     "text": [
      "25"
     ]
    }
   ],
   "source": [
    "# Ler partição Hive\n",
    "df_hive_parquet = sqlContext.read.option(\"mergeSchema\", \"true\").parquet(\"/user/hive/warehouse/etl_final_01/PK_DATREF=20200120\")\n",
    "df_hive_parquet.count()"
   ]
  },
  {
   "cell_type": "code",
   "execution_count": 42,
   "metadata": {
    "autoscroll": "auto"
   },
   "outputs": [
    {
     "name": "stdout",
     "output_type": "stream",
     "text": [
      "+---------+-----------+------------------+-----------------+\n",
      "|client_id|QT_EMP_CASH|    VL_MEDEMP_CASH|QT_CONTRATOS_TIPO|\n",
      "+---------+-----------+------------------+-----------------+\n",
      "|    35214|         29| 1818.367469879518|              166|\n",
      "|    44601|         26| 932.4615384615385|              156|\n",
      "|    26945|         11| 883.2053571428571|              112|\n",
      "|    49545|         41|2411.3350785340313|              191|\n",
      "|    49624|         20| 2235.940594059406|              101|\n",
      "|    46109|         21| 1308.241134751773|              141|\n",
      "|    42320|         42|3107.3083333333334|              120|\n",
      "|    32726|         14|1153.5099337748345|              151|\n",
      "|    29841|         31|1749.7733333333333|              150|\n",
      "|    49068|         83|3630.6241610738257|              149|\n",
      "|    41480|         33|1595.3245033112582|              151|\n",
      "|    38537|         23|1569.7967479674796|              123|\n",
      "|    32961|         32| 1076.854961832061|              131|\n",
      "|    32885|         38|3582.5652173913045|              115|\n",
      "|    25707|         34|1799.2298136645963|              161|\n",
      "|    39505|         43|1913.2781456953642|              151|\n",
      "|    39384|         54|3114.3356164383563|              146|\n",
      "|    46958|         16|            1221.0|               92|\n",
      "|    26695|         22|1185.4779411764705|              136|\n",
      "|    35089|         29| 936.3207547169811|              159|\n",
      "+---------+-----------+------------------+-----------------+\n",
      "only showing top 20 rows"
     ]
    }
   ],
   "source": [
    "df_hive_parquet.show()"
   ]
  },
  {
   "cell_type": "code",
   "execution_count": 43,
   "metadata": {
    "autoscroll": "auto"
   },
   "outputs": [],
   "source": [
    "nm_path_s3 = 's3://treinamento-big-data/'\n",
    "Tabela='UserEJL'+anomesdia\n",
    "etl_final.write.partitionBy('PK_DATREF').parquet(nm_path_s3 + Tabela , mode='append')"
   ]
  },
  {
   "cell_type": "code",
   "execution_count": null,
   "metadata": {
    "autoscroll": "auto"
   },
   "outputs": [],
   "source": [
    "print('Exercício')\n",
    "#Metadados:\n",
    "#PK_CLIENTE\n",
    "#Valor medio, minimo e maximo de contratos por tipo de emprestimo\n",
    "#Valor médio pago por tipo de empréstimo\n",
    "#Valor médio não pago por tipo empréstimo\n",
    "#Duração (meses) média dos contratos \n",
    "#Quantidade média de pagamentos"
   ]
  }
 ],
 "metadata": {
  "kernelspec": {
   "display_name": "PySpark",
   "language": "",
   "name": "pysparkkernel"
  },
  "language_info": {
   "codemirror_mode": {
    "name": "python",
    "version": 2
   },
   "mimetype": "text/x-python",
   "name": "pyspark",
   "pygments_lexer": "python2"
  }
 },
 "nbformat": 4,
 "nbformat_minor": 2
}
